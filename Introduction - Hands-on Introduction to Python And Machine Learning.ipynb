{
 "cells": [
  {
   "cell_type": "markdown",
   "metadata": {},
   "source": [
    "# Hands-on Introduction to Python And Machine Learning\n",
    "\n"
   ]
  },
  {
   "cell_type": "markdown",
   "metadata": {},
   "source": [
    "Instructor: Tak-Kei Lam\n",
    "\n",
    "(Readers are assumed to have a little bit programming background.)"
   ]
  },
  {
   "cell_type": "markdown",
   "metadata": {},
   "source": [
    "# Introduction"
   ]
  },
  {
   "cell_type": "markdown",
   "metadata": {},
   "source": [
    "## What is Python?"
   ]
  },
  {
   "cell_type": "markdown",
   "metadata": {},
   "source": [
    "+ A very flexible programming language created by Guido van Rossum and first released in 1991\n",
    "\n",
    "+ Interpreted language (the code need to be analysed line by line everytime before it is executed); but it can also be compiled (the whole program is analysed and translated into an executable before execution)\n",
    "\n",
    "+ Cross-platform\n",
    "\n",
    "+ Emphasizes on code readibility and programmer-friendly:\n",
    "    + Uses English keywords\n",
    "    + Doesn't require curly brackets or semi-colons et cetera\n",
    "\n",
    "+ Has a good and large module/package system\n",
    "\n",
    "+ Supports various programming styles:\n",
    "\n",
    "  + Imperative --- consists of lines of instructions in one big program\n",
    "  + Procedural --- consists of functions, which in turn consists of lines of instructions to be executed step by step\n",
    "  + Object oriented --- models a problem as objects and their interactions\n",
    "  + Functional --- models a problem as mathematical functions (transformations from one domain into another)\n",
    "  \n",
    "+ Please visit [Python Software Foundation](https://www.python.org)"
   ]
  },
  {
   "cell_type": "markdown",
   "metadata": {},
   "source": [
    "A feel of what Python code looks like...\n",
    "\n",
    "##### Imperative programming style:\n",
    "\n",
    "``` python\n",
    "data = [1, 2, 3, 4, 5]\n",
    "sum = 0\n",
    "for i in data:\n",
    "    sum += i\n",
    "print(sum)\n",
    "```\n",
    "\n",
    "##### Procedural programming style:\n",
    "\n",
    "``` python\n",
    "# this is a function\n",
    "def addThemAll(listOfNumbers):\n",
    "    sum = 0\n",
    "    for i in listOfNumbers:\n",
    "        sum += i\n",
    "    return sum\n",
    "\n",
    "data = [1, 2, 3, 4, 5]\n",
    "sum = addThemAll(data) # call the function\n",
    "print(sum)\n",
    "```\n",
    "\n",
    "##### Object oriented programming style:\n",
    "\n",
    "``` python\n",
    "# A class (template for building an object)\n",
    "class Adder:\n",
    "    def __init__(self, listOfNumbers):\n",
    "        if type(listOfNumbers) is list:\n",
    "            self.listOfNumbers = listOfNumbers\n",
    "        else:\n",
    "            self.MyList =[]\n",
    "    def addThemAll(self):\n",
    "        self.sum = 0\n",
    "        for i in self.listOfNumbers:\n",
    "            self.sum += i\n",
    "            \n",
    "data = [1, 2, 3, 4, 5]\n",
    "# create a new object of class Adder\n",
    "adder = Adder(data)\n",
    "adder.addThemAll()\n",
    "print(adder.sum)\n",
    "```\n",
    "\n",
    "##### Functional programming style:\n",
    "\n",
    "``` python\n",
    "import functools\n",
    "def addThemAll(X, Y):\n",
    "    return (X + Y)\n",
    "\n",
    "data = [1, 2, 3, 4, 5]\n",
    "# reduce() is a function that takes a function and a list as arguments\n",
    "# In this example, it return a value obtained by applying addThemAll on all the data\n",
    "sum = functools.reduce(addThemAll, data)\n",
    "print(sum)\n",
    "```"
   ]
  },
  {
   "cell_type": "code",
   "execution_count": null,
   "metadata": {},
   "outputs": [],
   "source": [
    "# Try to copy either one out of the four code fragments into this \"cell\", and type <control> + <enter> to run it"
   ]
  },
  {
   "cell_type": "markdown",
   "metadata": {},
   "source": [
    "## What is a Python module/package?\n",
    "+ A software library that was written by someone and can be used in your project\n",
    "\n",
    "+ In the above examples, we have not written the function: ```print()```. It is actually a built-in function provided in the standard Python module ```buildins```"
   ]
  },
  {
   "cell_type": "markdown",
   "metadata": {},
   "source": [
    "## Developement environment for writing Python\n",
    "\n",
    "Python can be written using any regular text editors (e.g. notepad, vim, emacs, or even M$ Word...). Python programs are just plain text files and can be executed in any _terminals_. They are usually ended with \"_.py_\". We can also execute python code interactively via the _interpreter prompt_.\n",
    "\n",
    "The [Jupyter notebook](https://jupyter.org/), which is a kind of a web-based development environment, is a more friendly way for writing Python. This interactive _webpage_ is actually an interface generated and managed by a Jupyter server to allow interactive programming and data visualization.\n",
    "\n",
    "> The Jupyter Notebook is an open-source web application that allows you to create and share documents that contain live code, equations, visualizations and narrative text. Uses include: data cleaning and transformation, numerical simulation, statistical modeling, data visualization, machine learning, and much more.\n",
    "\n",
    "#### How does Jupyter work?\n",
    "![How does Jupyter work](https://jupyter.readthedocs.io/en/latest/_images/notebook_components.png)\n",
    "\n",
    "In fact, Jupyter also supports some other programming languages such as _Haskell_ and _C#_.\n",
    "\n",
    "Interested readers can read the [Jupyter documention](https://jupyter.readthedocs.io/en/latest/architecture/how_jupyter_ipython_work.html)."
   ]
  },
  {
   "cell_type": "markdown",
   "metadata": {},
   "source": [
    "## Setting up Jupyter\n",
    "We recommend installing Anaconda which includes Jupyter and some popular Python packages for data science and machine learning as a bundle:\n",
    "![Anaconda](https://www.anaconda.com/wp-content/uploads/2017/08/Anaconda-Distribution-Diagram.png)\n",
    "\n",
    "+ Visit [Anaconda](https://www.anaconda.com/)\n",
    "\n",
    "+ Click _Download_\n",
    "\n",
    "+ Download the Python 3.6 version for your operating system\n",
    "\n",
    "+ After installing Anaconda, a Jupyter server and be started by typing the following command in a terminal in Linux or Mac, or command prompt in Windows (or Anaconda prompt):\n",
    "```\n",
    "jupyter notebook\n",
    "```\n",
    "\n",
    "Then, we can start writing some Python programs!"
   ]
  },
  {
   "cell_type": "markdown",
   "metadata": {},
   "source": [
    "## Getting started with your development environment"
   ]
  },
  {
   "cell_type": "markdown",
   "metadata": {},
   "source": [
    "#### The Jupyter way\n",
    "A Jupyter notebook consists of _cells_. A cell can store as well as other static data such as text or images or anything that can be displayed using HTML. Python code fragment in a cell will be passed to the Python _kernel_ where it will be interpreted and executed. (Hey, BTW this paragraph is contained in a Jupyter cell!)"
   ]
  },
  {
   "cell_type": "code",
   "execution_count": null,
   "metadata": {},
   "outputs": [],
   "source": [
    "print('Hello World!') # hey, what is the output?"
   ]
  },
  {
   "cell_type": "markdown",
   "metadata": {},
   "source": [
    "Interested readers can try executing: ```%lsmagic``` to see what Jupyter built-in commands are available.\n",
    "\n",
    "By the way, congratulations! You have just written your first Python program!"
   ]
  },
  {
   "cell_type": "markdown",
   "metadata": {},
   "source": [
    "#### What if you prefer writing and running python programs without third party tools?\n",
    "\n",
    "+ open a terminal or command prompt\n",
    "+ Create a file and name it: _hello.py_\n",
    "+ write ```print('Hello World!')``` in _hello.py_\n",
    "+ in the command prompt, execute:\n",
    "    ```bash\n",
    "    python hello.py\n",
    "    ```\n",
    "Please do try writing program in this way. It is fun."
   ]
  },
  {
   "cell_type": "markdown",
   "metadata": {},
   "source": [
    "#### How about using both Jupyter and external python files?\n",
    "It is sometimes more convenient to write programs using your favourite text editors (e.g. vim) or integrated development environments, especially when your program is long. We can actually combine the best of both worlds:\n",
    "+ In a Jupyter cell, type:\n",
    "```\n",
    "%run <your python file>\n",
    "```\n",
    "\n",
    "```%run``` is a Jupyter built-in command to execute an external python file.\n",
    "\n",
    "Please make sure your files are located in the directory where you invoked ```jupyter notebook```."
   ]
  },
  {
   "cell_type": "code",
   "execution_count": null,
   "metadata": {},
   "outputs": [],
   "source": [
    "# try to write hello.py if you haven't, and then execute: %run hello.py"
   ]
  },
  {
   "cell_type": "markdown",
   "metadata": {},
   "source": [
    "## Zen of Python\n",
    "The Python community is incredibly large and diverse. People are using Python in science, in medicine, in robotics, on the internet, and in any other field you can imagine. This diverse group of thinkers has developed a collective mindset about how programs should be written. If you want to understand Python and the community of Python programmers, it is a good idea to learn the ways Python programmers think.\n",
    "\n",
    "You can easily see a set of guiding principles that is written right into the language:"
   ]
  },
  {
   "cell_type": "code",
   "execution_count": null,
   "metadata": {},
   "outputs": [],
   "source": [
    "import this"
   ]
  },
  {
   "cell_type": "markdown",
   "metadata": {},
   "source": [
    "    \n",
    "## Python Community\n",
    "\n",
    "- [The Python website](http://python.org/)\n",
    "\n",
    "    The main Python website is probably not of too much interest to you at this point, but it is a great resource to know about as you start to learn more.   \n",
    "\n",
    "- [PyCon](https://us.pycon.org/)\n",
    "\n",
    "    The Python Conference (PyCon) is an incredible event, and the community is entirely welcoming to new programmers. They happen all over the world, throughout the year. If you can make your way to one of these conferences, you will learn a great deal and meet some really interesting people.\n",
    "\n",
    "- [Python User Groups](https://wiki.python.org/moin/LocalUserGroups)\n",
    "\n",
    "    Wherever there are a number of Python programmers, they will find a way to get together. Python user groups are regular meetings of Python users from a local area. Go take a look at the list of user groups, and see if there is one near you."
   ]
  }
 ],
 "metadata": {
  "kernelspec": {
   "display_name": "Python 3",
   "language": "python",
   "name": "python3"
  },
  "language_info": {
   "codemirror_mode": {
    "name": "ipython",
    "version": 3
   },
   "file_extension": ".py",
   "mimetype": "text/x-python",
   "name": "python",
   "nbconvert_exporter": "python",
   "pygments_lexer": "ipython3",
   "version": "3.5.2"
  }
 },
 "nbformat": 4,
 "nbformat_minor": 2
}
