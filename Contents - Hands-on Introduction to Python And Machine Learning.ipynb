{
 "cells": [
  {
   "cell_type": "markdown",
   "metadata": {},
   "source": [
    "# Hands-on Introduction to Python And Machine Learning"
   ]
  },
  {
   "cell_type": "markdown",
   "metadata": {},
   "source": [
    "Instructor: Tak-Kei Lam\n",
    "\n",
    "(Readers are assumed to have a little bit programming background.)"
   ]
  },
  {
   "cell_type": "markdown",
   "metadata": {},
   "source": [
    "# Contents\n",
    "+ [Introduction](Introduction - Hands-on Introduction to Python And Machine Learning.ipynb)\n",
    "+ [Getting started with Python](Python - Hands-on Introduction to Python And Machine Learning.ipynb)\n",
    "+ [More Python](Python II - Hands-on Introduction to Python And Machine Learning.ipynb) \n",
    "+ [Data Manipulation And Visualization](Data Manipulation And Visualization - Hands-on Introduction to Python And Machine Learning.ipynb)\n",
    "+ [Machine learning Intro](Machine Learning Intro - Hands-on Introduction to Python And Machine Learning.ipynb) \n",
    "+ [Machine learning Supervised VS. Unsupervised](Machine Learning Supervised Unsupervised - Hands-on Introduction to Python And Machine Learning.ipynb) \n",
    "+ [Machine learning Algos - Regression](Machine Learning Algos - Regression - Hands-on Introduction to Python And Machine Learning.ipynb) \n",
    "+ [Machine learning Algos - Similarity-based](Machine Learning Algos - Similarity-based - Hands-on Introduction to Python And Machine Learning.ipynb) \n",
    "+ [Machine learning Algos - Neural Network](Machine Learning Algos - Neural Network - Hands-on Introduction to Python And Machine Learning.ipynb) \n",
    "+ [Machine learning Rules of Thumb](Machine Learning Rules of Thumb - Hands-on Introduction to Python And Machine Learning.ipynb) \n",
    "+ [Project](Project - Hands-on Introduction to Python And Machine Learning.ipynb) "
   ]
  },
  {
   "cell_type": "markdown",
   "metadata": {},
   "source": [
    "# Our goal(s)\n",
    "\n",
    "- Be able to read and write Python code\n",
    "- Be able to write something that make use of maching learning techniques (at least be able to use the libraries)"
   ]
  },
  {
   "cell_type": "markdown",
   "metadata": {},
   "source": [
    "## Chatbot\n",
    "![Terminator](http://fossbytes.com/wp-content/uploads/2015/12/linux-kernel-1-1-15-terminator.jpg)\n",
    "(image from https://fossbytes.com/linux-kernel-4-1-15-used-by-skynets-t-800-terminator-is-finally-released/)"
   ]
  },
  {
   "cell_type": "code",
   "execution_count": null,
   "metadata": {},
   "outputs": [],
   "source": [
    "# hey this is very slow\n",
    "%run chatbot-mk-I.py"
   ]
  },
  {
   "cell_type": "markdown",
   "metadata": {},
   "source": [
    "## Manipulating Pokemon data (visualization, classification, prediction et cetera)\n",
    "![Wartortle](https://pre00.deviantart.net/3a50/th/pre/f/2015/082/d/b/squirtle___wartortle___blastoise_by_rayo123000-d8mwd2r.jpg)\n",
    "(image from https://rayo123000.deviantart.com/art/Squirtle-Wartortle-Blastoise-522190899)"
   ]
  },
  {
   "cell_type": "code",
   "execution_count": null,
   "metadata": {},
   "outputs": [],
   "source": [
    "import pandas as pd\n",
    "\n",
    "pokemons = pd.read_csv(\"pokemon.csv\")\n",
    "pokemons"
   ]
  },
  {
   "cell_type": "code",
   "execution_count": null,
   "metadata": {},
   "outputs": [],
   "source": [
    "%run pokemon-test.py"
   ]
  }
 ],
 "metadata": {
  "kernelspec": {
   "display_name": "Python 3",
   "language": "python",
   "name": "python3"
  },
  "language_info": {
   "codemirror_mode": {
    "name": "ipython",
    "version": 3
   },
   "file_extension": ".py",
   "mimetype": "text/x-python",
   "name": "python",
   "nbconvert_exporter": "python",
   "pygments_lexer": "ipython3",
   "version": "3.5.2"
  }
 },
 "nbformat": 4,
 "nbformat_minor": 2
}
